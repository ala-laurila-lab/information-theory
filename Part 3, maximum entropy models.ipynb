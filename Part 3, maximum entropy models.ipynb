{
 "cells": [
  {
   "cell_type": "code",
   "execution_count": 2,
   "metadata": {
    "collapsed": true
   },
   "outputs": [],
   "source": [
    "%matplotlib inline\n",
    "import numpy as np\n",
    "import matplotlib.pyplot as plt\n",
    "plt.rcParams['font.size'] = 13\n",
    "plt.rcParams['axes.spines.right'] = False\n",
    "plt.rcParams['ytick.right'] = False\n",
    "plt.rcParams['axes.spines.top'] = False\n",
    "plt.rcParams['xtick.top'] = False"
   ]
  },
  {
   "cell_type": "markdown",
   "metadata": {},
   "source": [
    "## Maximum entropy models"
   ]
  },
  {
   "cell_type": "markdown",
   "metadata": {},
   "source": [
    "A maximum entropy model is one that \n",
    "\n",
    "$$\n",
    "\\begin{equation}\n",
    " H = - \\sum_i p(x_i) \\log \\left( p(x_i) \\right)\n",
    "\\end{equation}\n",
    "$$\n",
    "\n",
    "subject to our equally constraints. This is achieved through the method of Lagrange multipliers, which maximizes a  functional that depends on the constraints as:\n",
    "\n",
    "$$\n",
    "\\begin{equation}\n",
    " \\tilde{H} = - \\sum_i p(x_i) \\log ( p(x_i) ) + \\lambda_0 ( ( \\sum_i p(x_i) ) - 1 ) + \\sum_k \\lambda_k ( ( \\sum_i p(x_i) f_k(x_i) ) - <f_k(x)>_\\mathrm{emp} ).\n",
    "\\end{equation}\n",
    "$$\n",
    "\n",
    "The \n",
    "\n",
    "$$\n",
    "\\begin{equation}\n",
    " \\frac{\\delta \\tilde{H}}{\\delta p(x_i)} = - \\log(p(x_i)) - 1 + \\lambda_0 + \\sum_k \\lambda_k f_k(x_i)\n",
    "\\end{equation}\n",
    "$$\n",
    "\n",
    "Setting the gradient to zero tells us that each $p(x_i)$ must have the form:\n",
    "\n",
    "$$\n",
    "\\begin{align}\n",
    " 0 &= - \\log(p(x_i)) - 1 + \\lambda_0 + \\sum_k \\lambda_k f_k(x_i) \\\\\n",
    " \\log(p(x_i)) &= -1 + \\lambda_0 + \\sum_k \\lambda_k f_x(x_i) \\\\\n",
    " p(x_i) &= \\frac{\\exp(\\sum_k \\lambda_k f_x(x_i))}{Z} \\\\\n",
    " Z &= \\sum_i \\exp \\left( \\sum_k \\lambda_k f_x(x_i) \\right)\n",
    "\\end{align}\n",
    "$$\n",
    "\n",
    "\n",
    "\n",
    "\n",
    "\n",
    "Using \n"
   ]
  },
  {
   "cell_type": "code",
   "execution_count": 44,
   "metadata": {},
   "outputs": [
    {
     "name": "stdout",
     "output_type": "stream",
     "text": [
      "[   5.45794111    8.14714695   -4.66150671  141.66565218 -119.23039078]\n",
      "[  9.34473447e-03  -8.70053556e-03  -5.00823523e-04  -1.29178632e-03\n",
      "  -7.03114727e-05]\n"
     ]
    },
    {
     "data": {
      "text/plain": [
       "[<matplotlib.lines.Line2D at 0x1168eb8d0>]"
      ]
     },
     "execution_count": 44,
     "metadata": {},
     "output_type": "execute_result"
    },
    {
     "data": {
      "image/png": "[encoded data removed]",
      "text/plain": [
       "<matplotlib.figure.Figure at 0x115b90150>"
      ]
     },
     "metadata": {},
     "output_type": "display_data"
    }
   ],
   "source": [
    "outcomes = np.linspace(0, 12, 15)\n",
    "#constraints = np.array([2.44, 1.696, 1.116])\n",
    "constraints = np.array([5.64, 8.01, -4.68])\n",
    "lambdas = -1*np.zeros_like(constraints, dtype=np.float64)\n",
    "\n",
    "q_raw = np.empty_like(outcomes)\n",
    "for idx, val in enumerate(outcomes):\n",
    "    q_raw[idx] = np.exp(lambdas[0]*val + lambdas[1]*(val-constraints[0])**2 + lambdas[2]*(val-constraints[0])**3 + lambdas[3]*(val-constraints[0])**4 + lambdas[4]*(val-constraints[0])**5)\n",
    "# Normalize to get probabilitites\n",
    "q = q_raw / q_raw.sum();\n",
    "\n",
    "eta = 0.0000002\n",
    "for i in range(250000):\n",
    "    q_raw = np.empty_like(outcomes)\n",
    "    for idx, val in enumerate(outcomes):\n",
    "        q_raw[idx] = np.exp(lambdas[0]*val + lambdas[1]*(val-constraints[0])**2 + lambdas[2]*(val-constraints[0])**3 + lambdas[3]*(val-constraints[0])**4 + lambdas[4]*(val-constraints[0])**5)\n",
    "    # Normalize to get probabilitites\n",
    "    q = q_raw / q_raw.sum()\n",
    "    \n",
    "    E_q = np.dot(q, np.vstack([outcomes, (outcomes-constraints[0])**2, (outcomes-constraints[0])**3, (outcomes-constraints[0])**4, (outcomes-constraints[0])**5]).T)\n",
    "    \n",
    "    lambdas_der = constraints - E_q\n",
    "    lambdas += eta*lambdas_der\n",
    "    \n",
    "print E_q\n",
    "print lambdas\n",
    "plt.plot(outcomes, q, 'ko')"
   ]
  }
 ],
 "metadata": {
  "kernelspec": {
   "display_name": "Python 2",
   "language": "python",
   "name": "python2"
  }
 },
 "nbformat": 4,
 "nbformat_minor": 1
}
