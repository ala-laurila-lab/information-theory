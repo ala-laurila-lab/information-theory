{
 "cells": [
  {
   "cell_type": "code",
   "execution_count": 6,
   "metadata": {
    "collapsed": true
   },
   "outputs": [],
   "source": [
    "%matplotlib inline\n",
    "import numpy as np\n",
    "import matplotlib.pyplot as plt\n",
    "plt.rcParams['font.size'] = 13\n",
    "plt.rcParams['axes.spines.right'] = False\n",
    "plt.rcParams['ytick.right'] = False\n",
    "plt.rcParams['axes.spines.top'] = False\n",
    "plt.rcParams['xtick.top'] = False"
   ]
  },
  {
   "cell_type": "markdown",
   "metadata": {},
   "source": [
    "## Background theory"
   ]
  },
  {
   "cell_type": "markdown",
   "metadata": {},
   "source": [
    "A maximum entropy model is one that \n",
    "\n",
    "$$\n",
    "\\begin{equation}\n",
    " H = - \\sum_i p(x_i) \\log \\left( p(x_i) \\right)\n",
    "\\end{equation}\n",
    "$$\n",
    "\n",
    "subject to our equally constraints. This is achieved through the method of Lagrange multipliers, which maximizes a  functional that depends on the constraints as:\n",
    "\n",
    "$$\n",
    "\\begin{equation}\n",
    " \\tilde{H} = - \\sum_i p(x_i) \\log ( p(x_i) ) + \\lambda_0 ( ( \\sum_i p(x_i) ) - 1 ) + \\sum_k \\lambda_k ( ( \\sum_i p(x_i) f_k(x_i) ) - \\sum_i p_\\mathrm{emp.}(x_i) f_k(x_i) ).\n",
    "\\end{equation}\n",
    "$$\n",
    "\n",
    "The partial derivatives for each $p(x_i)$ is given by:\n",
    "\n",
    "$$\n",
    "\\begin{equation}\n",
    " \\frac{\\partial \\tilde{H}}{\\partial p(x_i)} = - \\log(p(x_i)) - 1 + \\lambda_0 + \\sum_k \\lambda_k f_k(x_i),\n",
    "\\end{equation}\n",
    "$$\n",
    "\n",
    "and by setting these to zero, we learn that each $p(x_i)$ must have the form:\n",
    "\n",
    "$$\n",
    "\\begin{align}\n",
    " 0 &= - \\log(p(x_i)) - 1 + \\lambda_0 + \\sum_k \\lambda_k f_k(x_i), \\\\\n",
    " \\log(p(x_i)) &= -1 + \\lambda_0 + \\sum_k \\lambda_k f_x(x_i), \\\\\n",
    " p(x_i) &= \\frac{\\exp(\\sum_k \\lambda_k f_x(x_i))}{\\exp(1-\\lambda_0)}. \\\\\n",
    "\\end{align}\n",
    "$$\n",
    "\n",
    "The normalization constraint corresponds to setting the partial derivative for $\\lambda_0$ to zero:\n",
    "\n",
    "$$\n",
    "\\begin{align}\n",
    " \\frac{\\partial \\tilde{H}}{\\partial \\lambda_0} &= ( \\sum_i p(x_i) ) - 1, \\\\\n",
    " 0 &= ( \\sum_i p(x_i) ) - 1, \\\\\n",
    " 1 &= \\sum_i p(x_i), \\\\\n",
    " 1 &= \\sum_i \\frac{\\exp(\\sum_k \\lambda_k f_x(x_i))}{\\exp(1-\\lambda_0)}, \\\\\n",
    " \\exp(1-\\lambda_0) &= \\sum_i \\exp(\\sum_k \\lambda_k f_x(x_i)).\n",
    "\\end{align}\n",
    "$$\n",
    "\n",
    "Thus, it follows that $p(x)$ can be described by:\n",
    "$$\n",
    "\\begin{align}\n",
    " p(x_i) &= \\frac{\\exp(\\sum_k \\lambda_k f_x(x_i))}{Z}, \\\\\n",
    " Z &= \\sum_i \\exp \\left( \\sum_k \\lambda_k f_x(x_i) \\right),\n",
    "\\end{align}\n",
    "$$\n",
    "\n",
    "and that it belongs to the exponential family. The only parameters left to determine are then $\\lambda_1, \\ldots, \\lambda_K$, which can be found by maximizing the constrained optimization problem $\\tilde{H}$ directly or by maximizing a related unconstrained maximum likelihood problem (Berger et al., 1996). Given the empirical distribution $p_\\mathrm{emp.}(x_i)$, the mean likelihood $L$ and mean log-likelihood $ll$ functions become:\n",
    "\n",
    "$$\n",
    "\\begin{align}\n",
    " L &= \\prod_i p(x_i|\\lambda_1,\\ldots,\\lambda_K)^{p_\\mathrm{emp.}(x_i)}, \\\\\n",
    " ll &= \\sum_i p_\\mathrm{emp.}(x_i) \\log(p(x_i|\\lambda_1,\\ldots,\\lambda_K)), \\\\\n",
    "    &= \\sum_i p_\\mathrm{emp.}(x_i) \\log(\\exp(\\sum_k \\lambda_k f_x(x_i))) - \\sum_i \\tilde{p}(x_i) \\log(Z).\n",
    "\\end{align}\n",
    "$$\n",
    "\n",
    "The maximum of this log-likelihood function can be found using any gradient based method, and the expressions for the first and second partial derivative, respectively, are:\n",
    "\n",
    "$$\n",
    "\\begin{align}\n",
    " \\frac{\\partial ll}{\\partial \\lambda_k} &= \\sum_i \\tilde{p}(x_i) f_k(x_i) - \\sum_i \\tilde{p}(x_i) \\sum_j \\frac{ \\exp( \\sum_k \\lambda_k f_k(x_j))}{Z} f_k(x_j), \\\\\n",
    " &= \\sum_i \\tilde{p}(x_i) f_k(x_i) - \\sum_i p(x_i) f_k(x_i), \\\\\n",
    " &= \\mathbb{E}_\\mathrm{emp.}[f_k(x)] - \\mathbb{E}[f_k(x)],\\\\\n",
    " \\frac{\\partial^2 ll}{\\partial \\lambda_k \\partial \\lambda_l} &= - (\\mathbb{E}[f_k(x)f_l(x)] - \\mathbb{E}[f_k(x)]\\mathbb{E}[f_l(x)]).\n",
    "\\end{align}\n",
    "$$\n",
    "\n",
    "The expression for the first derivative neatly illustrates that the maximum likelihood approach yields $\\lambda$s that constitute a solution to the original optimization problem $\\tilde{H}$: the gradient will be zero when all the equality conditions are fulfilled. Similarly, the second derivatives extends upon this and further tells us that we do not just obtain a solution, but the optimal solution: Each second partial derivative occupies one element in the Hessian. Thus, we can conclude that the Hessian is the negative of a covariance matrix, and as covariance matrices are always positive semi-definite, the maximum found is guaranteed to be optimal and unique."
   ]
  },
  {
   "cell_type": "markdown",
   "metadata": {},
   "source": [
    "## Practical examples"
   ]
  },
  {
   "cell_type": "markdown",
   "metadata": {},
   "source": [
    "#### Generate data"
   ]
  },
  {
   "cell_type": "code",
   "execution_count": 67,
   "metadata": {},
   "outputs": [
    {
     "name": "stdout",
     "output_type": "stream",
     "text": [
      "[   9.1086  114.0566]\n",
      "[   9.10860117  114.05662861]\n"
     ]
    },
    {
     "data": {
      "text/plain": [
       "[<matplotlib.lines.Line2D at 0x1160c1290>]"
      ]
     },
     "execution_count": 67,
     "metadata": {},
     "output_type": "execute_result"
    },
    {
     "data": {
      "image/png": "[encoded data removed]",
      "text/plain": [
       "<matplotlib.figure.Figure at 0x115eb8a50>"
      ]
     },
     "metadata": {},
     "output_type": "display_data"
    }
   ],
   "source": [
    "def solveLambdas(sample, outcomes, order=1):\n",
    "\n",
    "    n_observations, n_dims = sample.shape\n",
    "\n",
    "    # Generate possible outcome patterns\n",
    "    pattern_grid = np.meshgrid(*[outcomes for i in range(n_dims)], indexing='ij')\n",
    "    patterns = np.vstack([grid_tmp.ravel() for grid_tmp in pattern_grid]).T\n",
    "    \n",
    "    # Model terms, patterns and higher order terms\n",
    "    # First order terms first\n",
    "    model_terms = patterns.copy()\n",
    "    term_tags = []\n",
    "    for i in range(n_dims):\n",
    "        term_tags.append('x%1d' % (i+1))\n",
    "    # Second order terms\n",
    "    if order > 1:\n",
    "        for i in range(n_dims):\n",
    "            for j in range(i, n_dims):\n",
    "                tmp_term = patterns[:, i] * patterns[:, j]\n",
    "                model_terms = np.append(model_terms, tmp_term[:, np.newaxis], axis=1)\n",
    "                term_tags.append('x%1dx%1d' % (i+1, j+1))\n",
    "                \n",
    "    # Empirical pattern probabilitites\n",
    "    n_patterns = patterns.shape[0]\n",
    "    pattern_counts = np.zeros(n_patterns)\n",
    "    for i in range(n_patterns):\n",
    "        matches = np.where((sample == patterns[i, :]).all(axis=1))[0]\n",
    "        pattern_counts[i] = matches.size\n",
    "    p_emp = pattern_counts / pattern_counts.sum()\n",
    "    constraints_emp = np.dot(p_emp, model_terms)\n",
    "    \n",
    "    # Initialize lambdas to zeros (initial guess)\n",
    "    n_lambdas = model_terms.shape[1]\n",
    "    lambdas = np.zeros(n_lambdas)\n",
    "    # Get initial predicted probabilitites\n",
    "    p_model = np.exp(np.dot(model_terms, lambdas))\n",
    "    p_model /= p_model.sum()\n",
    "    \n",
    "    # Gradient ascent with newton step updates\n",
    "    converged = False\n",
    "    n_steps = 0\n",
    "    ll = []\n",
    "    ll.append(np.dot(p_emp, np.log(p_model)))\n",
    "    while not converged:\n",
    "        \n",
    "        \n",
    "        p_model = np.exp(np.dot(model_terms, lambdas))\n",
    "        p_model /= p_model.sum()\n",
    "        \n",
    "        # Get model constraints, the gradient, and the hessian\n",
    "        constraints_model = np.dot(p_model, model_terms)\n",
    "        gradient = constraints_emp - constraints_model\n",
    "        h_term1 = np.dot(model_terms.T, (p_model[:, np.newaxis]*model_terms))\n",
    "        h_term2 = np.outer(constraints_model, constraints_model)\n",
    "        hessian = h_term1 - h_term2\n",
    "        \n",
    "        # Update the lambdas using one Newton step\n",
    "        newton_step = np.dot(np.linalg.inv(hessian), gradient)\n",
    "        lambdas += newton_step\n",
    "        \n",
    "        # Get the predicted probabilitites with updated lambdas\n",
    "        p_model = np.exp(np.dot(model_terms, lambdas))\n",
    "        p_model /= p_model.sum()\n",
    "        \n",
    "        # Update the loglikelihood and check for convergence\n",
    "        ll.append(np.dot(p_emp, np.log(p_model)))\n",
    "        if np.abs(ll[-1] - ll[-2]) < 1e-10:\n",
    "            converged = True\n",
    "        n_steps += 1\n",
    "    \n",
    "    print constraints_emp\n",
    "    print constraints_model\n",
    "        \n",
    "    plt.figure(figsize=(15, 3))\n",
    "    ax = plt.subplot(1, 2, 1)\n",
    "    ax.plot(np.arange(0, n_steps+1), ll, 'ko')\n",
    "    \n",
    "    return p_emp, p_model\n",
    "    \n",
    "\n",
    "n_outcomes = 21\n",
    "n_observations = 5000\n",
    "mu = 7.\n",
    "sigma = 10.\n",
    "\n",
    "# The true distribution is an exponential distribution\n",
    "x = np.arange(n_outcomes)\n",
    "p_exp = 1/mu * np.exp(-x/mu)\n",
    "p_exp /= p_exp.sum()\n",
    "p_normal = np.exp(-(x-mu)**2/(2*sigma**2))\n",
    "p_normal /= p_normal.sum()\n",
    "p_equal = 1. / n_outcomes * np.ones(n_outcomes)\n",
    "\n",
    "# Get a sample of n_observations from the true distribution\n",
    "p_exp_cum = np.cumsum(p_normal)\n",
    "r_sample = np.random.rand(n_observations)\n",
    "sample = np.array([np.argmax(r < p_exp_cum) for r in r_sample])\n",
    "sample = sample[:, np.newaxis]  # Turn into a matrix with one column\n",
    "\n",
    "#solveLambdas(np.hstack([sample, sample]), x, 2)\n",
    "p_emp, p_model = solveLambdas(sample, x, 2)\n",
    "\n",
    "ax = plt.subplot(1, 2, 2)\n",
    "ax.bar(x, p_emp, alpha=0.4)\n",
    "ax.bar(x, p_model, color='r', alpha=0.4)\n",
    "ax.plot(x, p_normal, 'ko')"
   ]
  },
  {
   "cell_type": "code",
   "execution_count": null,
   "metadata": {
    "collapsed": true
   },
   "outputs": [],
   "source": []
  }
 ],
 "metadata": {
  "kernelspec": {
   "display_name": "Python 2",
   "language": "python",
   "name": "python2"
  },
  "language_info": {
   "codemirror_mode": {
    "name": "ipython",
    "version": 2
   },
   "file_extension": ".py",
   "mimetype": "text/x-python",
   "name": "python",
   "nbconvert_exporter": "python",
   "pygments_lexer": "ipython2",
   "version": "2.7.14"
  }
 },
 "nbformat": 4,
 "nbformat_minor": 1
}
