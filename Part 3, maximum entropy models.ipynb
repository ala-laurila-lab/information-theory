{
 "cells": [
  {
   "cell_type": "code",
   "execution_count": 2,
   "metadata": {
    "collapsed": true
   },
   "outputs": [],
   "source": [
    "%matplotlib inline\n",
    "import numpy as np\n",
    "import matplotlib.pyplot as plt\n",
    "plt.rcParams['font.size'] = 13\n",
    "plt.rcParams['axes.spines.right'] = False\n",
    "plt.rcParams['ytick.right'] = False\n",
    "plt.rcParams['axes.spines.top'] = False\n",
    "plt.rcParams['xtick.top'] = False"
   ]
  },
  {
   "cell_type": "markdown",
   "metadata": {},
   "source": [
    "## Background theory"
   ]
  },
  {
   "cell_type": "markdown",
   "metadata": {},
   "source": [
    "A maximum entropy model is one that \n",
    "\n",
    "$$\n",
    "\\begin{equation}\n",
    " H = - \\sum_i p(x_i) \\log \\left( p(x_i) \\right)\n",
    "\\end{equation}\n",
    "$$\n",
    "\n",
    "subject to our equally constraints. This is achieved through the method of Lagrange multipliers, which maximizes a  functional that depends on the constraints as:\n",
    "\n",
    "$$\n",
    "\\begin{equation}\n",
    " \\tilde{H} = - \\sum_i p(x_i) \\log ( p(x_i) ) + \\lambda_0 ( ( \\sum_i p(x_i) ) - 1 ) + \\sum_k \\lambda_k ( ( \\sum_i p(x_i) f_k(x_i) ) - \\sum_i \\tilde{p}(x_i) f_k(x_i) ).\n",
    "\\end{equation}\n",
    "$$\n",
    "\n",
    "The partial derivatives for each $p(x_i)$ is given by:\n",
    "\n",
    "$$\n",
    "\\begin{equation}\n",
    " \\frac{\\partial \\tilde{H}}{\\partial p(x_i)} = - \\log(p(x_i)) - 1 + \\lambda_0 + \\sum_k \\lambda_k f_k(x_i),\n",
    "\\end{equation}\n",
    "$$\n",
    "\n",
    "and by setting these to zero, we learn that each $p(x_i)$ must have the form:\n",
    "\n",
    "$$\n",
    "\\begin{align}\n",
    " 0 &= - \\log(p(x_i)) - 1 + \\lambda_0 + \\sum_k \\lambda_k f_k(x_i), \\\\\n",
    " \\log(p(x_i)) &= -1 + \\lambda_0 + \\sum_k \\lambda_k f_x(x_i), \\\\\n",
    " p(x_i) &= \\frac{\\exp(\\sum_k \\lambda_k f_x(x_i))}{\\exp(1-\\lambda_0)}. \\\\\n",
    "\\end{align}\n",
    "$$\n",
    "\n",
    "The normalization constraint corresponds to setting the partial derivative for $\\lambda_0$ to zero:\n",
    "\n",
    "$$\n",
    "\\begin{align}\n",
    " \\frac{\\partial \\tilde{H}}{\\partial \\lambda_0} &= ( \\sum_i p(x_i) ) - 1, \\\\\n",
    " 0 &= ( \\sum_i p(x_i) ) - 1, \\\\\n",
    " 1 &= \\sum_i p(x_i), \\\\\n",
    " 1 &= \\sum_i \\frac{\\exp(\\sum_k \\lambda_k f_x(x_i))}{\\exp(1-\\lambda_0)}, \\\\\n",
    " \\exp(1-\\lambda_0) &= \\sum_i \\exp(\\sum_k \\lambda_k f_x(x_i)).\n",
    "\\end{align}\n",
    "$$\n",
    "\n",
    "Thus, it follows that $p(x)$ can be described by:\n",
    "$$\n",
    "\\begin{align}\n",
    " p(x_i) &= \\frac{\\exp(\\sum_k \\lambda_k f_x(x_i))}{Z}, \\\\\n",
    " Z &= \\sum_i \\exp \\left( \\sum_k \\lambda_k f_x(x_i) \\right),\n",
    "\\end{align}\n",
    "$$\n",
    "\n",
    "and that it belongs to the exponential family. The only parameters left to determine are then $\\lambda_1, \\ldots, \\lambda_K$, which can be found by maximizing the constrained optimization problem $\\tilde{H}$ directly or by maximizing a related unconstrained maximum likelihood problem (Berger et al., 1996). Given the empirical distribution $\\tilde{p}(x_i)$, the mean likelihood $L$ and mean log-likelihood $ll$ functions become:\n",
    "\n",
    "$$\n",
    "\\begin{align}\n",
    " L &= \\prod_i p(x_i|\\lambda_1,\\ldots,\\lambda_K)^{\\tilde{p}(x_i)}, \\\\\n",
    " ll &= \\sum_i \\tilde{p}(x_i) \\log(p(x_i|\\lambda_1,\\ldots,\\lambda_K)), \\\\\n",
    "    &= \\sum_i \\tilde{p}(x_i) \\log(\\exp(\\sum_k \\lambda_k f_x(x_i))) - \\sum_i \\tilde{p}(x_i) \\log(Z).\n",
    "\\end{align}\n",
    "$$\n",
    "\n",
    "The maximum of the log-likelihood function can be found using any gradient based method (CHECK CONVEXITY STILL!!!). The expression for gradient, in turn, is very simple:\n",
    "\n",
    "$$\n",
    "\\begin{align}\n",
    " \\frac{\\partial ll}{\\partial \\lambda_k} &= \\sum_i \\tilde{p}(x_i) f_k(x_i) - \\sum_i \\tilde{p}(x_i) \\sum_j \\frac{ \\exp( \\sum_k \\lambda_k f_k(x_j))}{Z} f_k(x_j), \\\\\n",
    " &= \\sum_i \\tilde{p}(x_i) f_k(x_i) - \\sum_i p(x_i) f_k(x_i),\n",
    "\\end{align}\n",
    "$$\n",
    "\n",
    "and neatly illustrates that the maximum likelihood approach yields optimal $\\lambda$s, as it is zero when the equality conditions for $\\tilde{H}$ are fulfilled.\n"
   ]
  },
  {
   "cell_type": "markdown",
   "metadata": {},
   "source": [
    "## Practical examples"
   ]
  },
  {
   "cell_type": "markdown",
   "metadata": {},
   "source": [
    "#### Generate data"
   ]
  },
  {
   "cell_type": "code",
   "execution_count": 3,
   "metadata": {},
   "outputs": [
    {
     "name": "stdout",
     "output_type": "stream",
     "text": [
      "[0 1]\n"
     ]
    }
   ],
   "source": [
    "N =  np.meshgrid(*[range(i) for i in [2]], indexing='ij')\n",
    "for n in N:\n",
    "    print n"
   ]
  },
  {
   "cell_type": "code",
   "execution_count": 59,
   "metadata": {},
   "outputs": [
    {
     "name": "stdout",
     "output_type": "stream",
     "text": [
      "20331\n",
      "[  7.273  77.133]\n",
      "[  7.27299708  77.13300016]\n"
     ]
    },
    {
     "data": {
      "text/plain": [
       "[<matplotlib.lines.Line2D at 0x1205b0910>]"
      ]
     },
     "execution_count": 59,
     "metadata": {},
     "output_type": "execute_result"
    },
    {
     "data": {
      "image/png": "[encoded data removed]",
      "text/plain": [
       "<matplotlib.figure.Figure at 0x12032ee50>"
      ]
     },
     "metadata": {},
     "output_type": "display_data"
    }
   ],
   "source": [
    "def solveLambdas(sample, outcomes, order=1):\n",
    "\n",
    "    n_observations, n_dims = sample.shape\n",
    "\n",
    "    # Generate possible outcome patterns\n",
    "    pattern_grid = np.meshgrid(*[outcomes for i in range(n_dims)], indexing='ij')\n",
    "    patterns = np.vstack([grid_tmp.ravel() for grid_tmp in pattern_grid]).T\n",
    "    \n",
    "    # Model terms, patterns and higher order terms\n",
    "    # First order terms first\n",
    "    model_terms = patterns.copy()\n",
    "    term_tags = []\n",
    "    for i in range(n_dims):\n",
    "        term_tags.append('x%1d' % (i+1))\n",
    "    # Secodn order terms\n",
    "    if order > 1:\n",
    "        for i in range(n_dims):\n",
    "            for j in range(i, n_dims):\n",
    "                tmp_term = patterns[:, i] * patterns[:, j]\n",
    "                model_terms = np.append(model_terms, tmp_term[:, np.newaxis], axis=1)\n",
    "                term_tags.append('x%1dx%1d' % (i+1, j+1))\n",
    "                \n",
    "    # Empirical pattern probabilitites\n",
    "    n_patterns = patterns.shape[0]\n",
    "    pattern_counts = np.zeros(n_patterns)\n",
    "    for i in range(n_patterns):\n",
    "        matches = np.where((sample == patterns[i, :]).all(axis=1))[0]\n",
    "        pattern_counts[i] = matches.size\n",
    "    p_emp = pattern_counts / pattern_counts.sum()\n",
    "    constraints_emp = np.dot(p_emp, model_terms)\n",
    "    \n",
    "    # Model pattern probabilities\n",
    "    n_lambdas = model_terms.shape[1]\n",
    "    lambdas = np.zeros(n_lambdas)\n",
    "    p_model = np.exp(np.dot(model_terms, lambdas))\n",
    "    p_model /= p_model.sum()\n",
    "    \n",
    "    converged = False\n",
    "    eta = 1e-3\n",
    "    n_steps = 0\n",
    "    ll = []\n",
    "    ll.append(np.dot(p_emp, np.log(p_model)))\n",
    "    while not converged:\n",
    "        \n",
    "        p_model = np.exp(np.dot(model_terms, lambdas))\n",
    "        p_model /= p_model.sum()\n",
    "        \n",
    "        constraints_model = np.dot(p_model, model_terms)\n",
    "        \n",
    "        lambdas_der = constraints_emp - constraints_model\n",
    "        lambdas += eta*lambdas_der\n",
    "        \n",
    "        ll.append(np.dot(p_emp, np.log(p_model)))\n",
    "        \n",
    "        # Adaptive step length\n",
    "        if ll[-1] > ll[-2]:\n",
    "            eta = eta*1.02;\n",
    "        else:\n",
    "            eta = eta*0.5;\n",
    "            \n",
    "        n_steps += 1\n",
    "        if eta < 1e-6:\n",
    "            converged = True\n",
    "    \n",
    "    print n_steps\n",
    "    print constraints_emp\n",
    "    print constraints_model\n",
    "        \n",
    "    plt.figure(figsize=(15, 3))\n",
    "    ax = plt.subplot(1, 2, 1)\n",
    "    ax.plot(np.arange(0, n_steps+1), ll, 'ko')\n",
    "    \n",
    "    return p_emp, p_model\n",
    "    \n",
    "\n",
    "n_outcomes = 21\n",
    "n_observations = 5000\n",
    "mu = 5.\n",
    "sigma = 7.\n",
    "\n",
    "# The true distribution is an exponential distribution\n",
    "x = np.arange(n_outcomes)\n",
    "p_exp = 1/mu * np.exp(-x/mu)\n",
    "p_exp /= p_exp.sum()\n",
    "p_normal = np.exp(-(x-mu)**2/(2*sigma**2))\n",
    "p_normal /= p_normal.sum()\n",
    "\n",
    "# Get a sample of n_observations from the true distribution\n",
    "p_exp_cum = np.cumsum(p_normal)\n",
    "r_sample = np.random.rand(n_observations)\n",
    "sample = np.array([np.argmax(r < p_exp_cum) for r in r_sample])\n",
    "sample = sample[:, np.newaxis]  # Turn into a matrix with one column\n",
    "\n",
    "#solveLambdas(np.hstack([sample, sample]), x, 2)\n",
    "p_emp, p_model = solveLambdas(sample, x, 2)\n",
    "\n",
    "ax = plt.subplot(1, 2, 2)\n",
    "ax.bar(x, p_emp, alpha=0.4)\n",
    "ax.bar(x, p_model, color='r', alpha=0.4)\n",
    "ax.plot(x, p_normal, 'ko')"
   ]
  },
  {
   "cell_type": "code",
   "execution_count": 22,
   "metadata": {},
   "outputs": [
    {
     "name": "stdout",
     "output_type": "stream",
     "text": [
      "[0, 1, 2, 3]\n"
     ]
    }
   ],
   "source": [
    "n = 4\n",
    "print range(0,4)"
   ]
  },
  {
   "cell_type": "code",
   "execution_count": 3,
   "metadata": {},
   "outputs": [
    {
     "name": "stdout",
     "output_type": "stream",
     "text": [
      "[ 5.42086536  8.05335415 -4.67038534]\n",
      "[ 0.01186493 -0.04679609 -0.00264471]\n"
     ]
    },
    {
     "data": {
      "text/plain": [
       "[<matplotlib.lines.Line2D at 0x112ebb910>]"
      ]
     },
     "execution_count": 3,
     "metadata": {},
     "output_type": "execute_result"
    },
    {
     "data": {
      "image/png": "[encoded data removed]",
      "text/plain": [
       "<matplotlib.figure.Figure at 0x110d30290>"
      ]
     },
     "metadata": {},
     "output_type": "display_data"
    }
   ],
   "source": [
    "\n",
    "outcomes = np.linspace(0, 12, 15)\n",
    "#constraints = np.array([2.44, 1.696, 1.116])\n",
    "constraints = np.array([5.64, 8.01, -4.68])\n",
    "lambdas = -1*np.zeros_like(constraints, dtype=np.float64)\n",
    "\n",
    "q_raw = np.empty_like(outcomes)\n",
    "for idx, val in enumerate(outcomes):\n",
    "    q_raw[idx] = np.exp(lambdas[0]*val + lambdas[1]*(val-constraints[0])**2 + lambdas[2]*(val-constraints[0])**3)\n",
    "# Normalize to get probabilitites\n",
    "q = q_raw / q_raw.sum();\n",
    "\n",
    "eta = 0.00002\n",
    "for i in range(2500):\n",
    "    q_raw = np.empty_like(outcomes)\n",
    "    for idx, val in enumerate(outcomes):\n",
    "        q_raw[idx] = np.exp(lambdas[0]*val + lambdas[1]*(val-constraints[0])**2 + lambdas[2]*(val-constraints[0])**3)\n",
    "    # Normalize to get probabilitites\n",
    "    q = q_raw / q_raw.sum()\n",
    "    \n",
    "    E_q = np.dot(q, np.vstack([outcomes, (outcomes-constraints[0])**2, (outcomes-constraints[0])**3]).T)\n",
    "    \n",
    "    lambdas_der = constraints - E_q\n",
    "    lambdas += eta*lambdas_der\n",
    "    \n",
    "print E_q\n",
    "print lambdas\n",
    "plt.plot(outcomes, q, 'ko')"
   ]
  },
  {
   "cell_type": "code",
   "execution_count": null,
   "metadata": {
    "collapsed": true
   },
   "outputs": [],
   "source": []
  }
 ],
 "metadata": {
  "kernelspec": {
   "display_name": "Python 2",
   "language": "python",
   "name": "python2"
  },
  "language_info": {
   "codemirror_mode": {
    "name": "ipython",
    "version": 2
   },
   "file_extension": ".py",
   "mimetype": "text/x-python",
   "name": "python",
   "nbconvert_exporter": "python",
   "pygments_lexer": "ipython2",
   "version": "2.7.14"
  }
 },
 "nbformat": 4,
 "nbformat_minor": 1
}
