{
 "cells": [
  {
   "cell_type": "code",
   "execution_count": 67,
   "metadata": {},
   "outputs": [],
   "source": [
    "%matplotlib inline\n",
    "import numpy as np\n",
    "import matplotlib.pyplot as plt\n",
    "plt.rcParams['font.size'] = 13\n",
    "plt.rcParams['axes.spines.right'] = False\n",
    "plt.rcParams['ytick.right'] = False\n",
    "plt.rcParams['axes.spines.top'] = False\n",
    "plt.rcParams['xtick.top'] = False"
   ]
  },
  {
   "cell_type": "markdown",
   "metadata": {},
   "source": [
    "## Background theory"
   ]
  },
  {
   "cell_type": "markdown",
   "metadata": {},
   "source": [
    "A maximum entropy model is one that makes as little assumptions as possible while still fulfilling some constraints. These constraints are sometimes interpreted as features, but in practice they usually correspond to fixing [moments](https://en.wikipedia.org/wiki/Moment_(mathematics). That is, we seek a model of a distribution that has maximal entropy: \n",
    "\n",
    "$$\n",
    "\\begin{equation}\n",
    " H = - \\sum_i p(x_i) \\log \\left( p(x_i) \\right)\n",
    "\\end{equation}\n",
    "$$\n",
    "\n",
    "but that also has the same moments as our sample. This is achieved through the method of Lagrange multipliers, which maximizes a functional that depends on the constraints as:\n",
    "\n",
    "$$\n",
    "\\begin{equation}\n",
    " \\tilde{H} = - \\sum_i p(x_i) \\log ( p(x_i) ) + \\lambda_0 ( ( \\sum_i p(x_i) ) - 1 ) + \\sum_k \\lambda_k ( ( \\sum_i p(x_i) f_k(x_i) ) - \\sum_i p_\\mathrm{emp.}(x_i) f_k(x_i) ).\n",
    "\\end{equation}\n",
    "$$\n",
    "\n",
    "where $( \\sum_i p(x_i) ) - 1$ derives from all probabilities summing up to one and $\\sum_i p(x_i) f_k(x_i) - \\sum_i p_\\mathrm{emp.}(x_i) f_k(x_i)$ from matching moments. The actual moment is given by $f$, and matching, for example, the mean thus corresponds to having $f(x)=x$. A maximum entropy model (distribution) can therefore be found by maximizing $\\tilde{H}$ with respect to both $p$ and the $\\lambda$s. This might seem complicated at first, but as the entropy function is convex and the constraints affine (in $p$), this is actually a convex optimization problem. The global optima can thus be found by setting the gradient to zero. For most cases, however, there is no closed form solution and numerical optimization routines are needed, but it is, nonetheless, possible to analytically derive the shape of $p$. \n",
    "\n",
    "The partial derivatives for each $p(x_i)$ is given by:\n",
    "\n",
    "$$\n",
    "\\begin{equation}\n",
    " \\frac{\\partial \\tilde{H}}{\\partial p(x_i)} = - \\log(p(x_i)) - 1 + \\lambda_0 + \\sum_k \\lambda_k f_k(x_i),\n",
    "\\end{equation}\n",
    "$$\n",
    "\n",
    "and by setting these to zero, we learn that each $p(x_i)$ must have the form:\n",
    "\n",
    "$$\n",
    "\\begin{align}\n",
    " 0 &= - \\log(p(x_i)) - 1 + \\lambda_0 + \\sum_k \\lambda_k f_k(x_i), \\\\\n",
    " \\log(p(x_i)) &= -1 + \\lambda_0 + \\sum_k \\lambda_k f_x(x_i), \\\\\n",
    " p(x_i) &= \\frac{\\exp(\\sum_k \\lambda_k f_x(x_i))}{\\exp(1-\\lambda_0)}. \\\\\n",
    "\\end{align}\n",
    "$$\n",
    "\n",
    "The normalization constraint further corresponds to setting the partial derivative for $\\lambda_0$ to zero:\n",
    "\n",
    "$$\n",
    "\\begin{align}\n",
    " \\frac{\\partial \\tilde{H}}{\\partial \\lambda_0} &= ( \\sum_i p(x_i) ) - 1, \\\\\n",
    " 0 &= ( \\sum_i p(x_i) ) - 1, \\\\\n",
    " 1 &= \\sum_i p(x_i), \\\\\n",
    " 1 &= \\sum_i \\frac{\\exp(\\sum_k \\lambda_k f_x(x_i))}{\\exp(1-\\lambda_0)}, \\\\\n",
    " \\exp(1-\\lambda_0) &= \\sum_i \\exp(\\sum_k \\lambda_k f_x(x_i)).\n",
    "\\end{align}\n",
    "$$\n",
    "\n",
    "Thus, it follows that $p(x)$ can be described by:\n",
    "$$\n",
    "\\begin{align}\n",
    " p(x_i) &= \\frac{\\exp(\\sum_k \\lambda_k f_x(x_i))}{Z}, \\\\\n",
    " Z &= \\sum_i \\exp \\left( \\sum_k \\lambda_k f_x(x_i) \\right),\n",
    "\\end{align}\n",
    "$$\n",
    "\n",
    "and that it belongs to the exponential family. The only parameters left to determine are then $\\lambda_1, \\ldots, \\lambda_K$, which can be found by maximizing the constrained optimization problem $\\tilde{H}$ directly or by maximizing a related unconstrained maximum likelihood problem (Berger et al., 1996). Given the empirical distribution $p_\\mathrm{emp.}(x_i)$, the **mean** likelihood $L$ and mean log-likelihood $ll$ functions become:\n",
    "\n",
    "$$\n",
    "\\begin{align}\n",
    " L &= \\prod_i p(x_i|\\lambda_1,\\ldots,\\lambda_K)^{p_\\mathrm{emp.}(x_i)}, \\\\\n",
    " ll &= \\sum_i p_\\mathrm{emp.}(x_i) \\log(p(x_i|\\lambda_1,\\ldots,\\lambda_K)), \\\\\n",
    "    &= \\sum_i p_\\mathrm{emp.}(x_i) \\log(\\exp(\\sum_k \\lambda_k f_x(x_i))) - \\sum_i p_\\mathrm{emp.}(x_i) \\log(Z).\n",
    "\\end{align}\n",
    "$$\n",
    "\n",
    "The maximum of this log-likelihood function can be found using any gradient based method, and the expressions for the first and second partial derivative, respectively, are:\n",
    "\n",
    "$$\n",
    "\\begin{align}\n",
    " \\frac{\\partial ll}{\\partial \\lambda_k} &= \\sum_i p_\\mathrm{emp.}(x_i) f_k(x_i) - \\sum_i p_\\mathrm{emp.}(x_i) \\sum_j \\frac{ \\exp( \\sum_k \\lambda_k f_k(x_j))}{Z} f_k(x_j), \\\\\n",
    " &= \\sum_i p_\\mathrm{emp.}(x_i) f_k(x_i) - \\sum_i p(x_i) f_k(x_i), \\\\\n",
    " &= \\mathbb{E}_\\mathrm{emp.}[f_k(x)] - \\mathbb{E}[f_k(x)],\\\\\n",
    " \\frac{\\partial^2 ll}{\\partial \\lambda_k \\partial \\lambda_l} &= - (\\mathbb{E}[f_k(x)f_l(x)] - \\mathbb{E}[f_k(x)]\\mathbb{E}[f_l(x)]).\n",
    "\\end{align}\n",
    "$$\n",
    "\n",
    "The expression for the first derivative neatly illustrates that the maximum likelihood approach yields $\\lambda$s that constitute a solution to the original optimization problem $\\tilde{H}$: the gradient will be zero when all the equality conditions are fulfilled. Similarly, the second derivatives extends upon this and further tells us that we do not just obtain a solution, but the optimal solution: Each second partial derivative occupies one element in the Hessian. Thus, we can conclude that the Hessian is the negative of a covariance matrix, and as covariance matrices are always positive semi-definite, the maximum found is guaranteed to be optimal and unique.\n",
    "\n",
    "In the implementation below, we find maximum entropy models by solving the maximum likelihood problem using [Newton's method](https://en.wikipedia.org/wiki/Newton%27s_method_in_optimization). This method converges a lot faster than naive gradient descent, but it can become slow for large number of constraints as the inverse of the Hessian needs to be calculated at each step."
   ]
  },
  {
   "cell_type": "markdown",
   "metadata": {},
   "source": [
    "## Practical examples"
   ]
  },
  {
   "cell_type": "markdown",
   "metadata": {},
   "source": [
    "#### Some functions"
   ]
  },
  {
   "cell_type": "code",
   "execution_count": 68,
   "metadata": {},
   "outputs": [],
   "source": [
    "def generateResponsePatterns(outcomes, n_dims):\n",
    "    \"\"\" Generate all possible response patterns \"\"\"\n",
    "    pattern_grid = np.meshgrid(*[outcomes for i in range(n_dims)], indexing='ij')\n",
    "    patterns = np.vstack([grid_tmp.ravel() for grid_tmp in pattern_grid]).T\n",
    "    \n",
    "    return patterns\n",
    "\n",
    "def generateModelTerms(patterns, order=1, var=True):\n",
    "    \"\"\" Generate model terms from the response patterns \n",
    "    \n",
    "        Indexes denote the response dimension (e.g., different cells)\n",
    "        First order: f(x1,...,xk) = x1,...,xk\n",
    "        Second order: f(x1,...,xk) = x1x1, x1x2,...,xkxk\n",
    "    \n",
    "    \"\"\"\n",
    "    n_dims = patterns.shape[1]\n",
    "    \n",
    "    # First order terms\n",
    "    model_terms = patterns.copy()\n",
    "    term_tags = []\n",
    "    for i in range(n_dims):\n",
    "        term_tags.append('x%1d' % (i+1))\n",
    "        \n",
    "    # Second order terms\n",
    "    if order > 1:\n",
    "        for i in range(n_dims):\n",
    "            if var:\n",
    "                start_idx = i\n",
    "            else:\n",
    "                start_idx = i+1  \n",
    "            for j in range(start_idx, n_dims):\n",
    "                tmp_term = patterns[:, i] * patterns[:, j]\n",
    "                model_terms = np.append(model_terms, tmp_term[:, np.newaxis], axis=1)\n",
    "                term_tags.append('x%1dx%1d' % (i+1, j+1))\n",
    "                \n",
    "    return model_terms, term_tags\n",
    "             \n",
    "def sampleDistribution(p, n_observations):\n",
    "    \"\"\" Sample a 1 or 2 dimensional distribution \"\"\"\n",
    "    \n",
    "    sample_idx = np.empty([n_observations, len(p.shape)], dtype=np.int64)\n",
    "    \n",
    "    if len(p.shape) == 1:\n",
    "        p_cum = np.cumsum(p)\n",
    "        r_sample = np.random.rand(n_observations)\n",
    "        sample_idx[:, 0] = np.int64(np.array([np.argmax(r < p_cum) for r in r_sample]))\n",
    "        \n",
    "    elif len(p.shape) == 2:\n",
    "        # Cumulative distributions\n",
    "        p_v1 = np.sum(p, axis=1)\n",
    "        p_cum_v1 = np.cumsum(p_v1)\n",
    "        p_v2_given_v1 = p / p_v1[:, np.newaxis]\n",
    "        p_cum_v2_given_v1 = np.cumsum(p_v2_given_v1, axis=1)\n",
    "\n",
    "        # Sample along each dimension separtely\n",
    "        r_v1_sample = np.random.rand(n_observations)\n",
    "        sample_idx[:, 0] = np.array([np.argmax(r < p_cum_v1) for r in r_v1_sample])\n",
    "        r_v2_sample = np.random.rand(n_observations)\n",
    "        sample_idx[:, 1] = np.array([np.argmax(r < p_cum_v2_given_v1[v1,:]) for r, v1 in zip(r_v2_sample, sample_idx[:,0])])\n",
    "        \n",
    "    return sample_idx\n",
    "    \n",
    "def getEmpiricalDistribution(sample, patterns):     \n",
    "    \"\"\" Determine the empirical probability distribution\"\"\"        \n",
    "    n_patterns = patterns.shape[0]\n",
    "    pattern_counts = np.zeros(n_patterns)\n",
    "    # Count how often each pattern occurs in the sample and normalize at the end\n",
    "    for i in range(n_patterns):\n",
    "        matches = np.where((sample == patterns[i, :]).all(axis=1))[0]\n",
    "        pattern_counts[i] = matches.size\n",
    "    p_emp = pattern_counts / pattern_counts.sum()\n",
    "    \n",
    "    return p_emp\n",
    "\n",
    "def getModelDistribution(lambdas, model_terms):\n",
    "    \"\"\" Determine the model's probability distribution\"\"\"\n",
    "    p_model = np.exp(np.dot(model_terms, lambdas))\n",
    "    p_model /= p_model.sum()\n",
    "    \n",
    "    return p_model\n",
    "\n",
    "def logLikelihood(P_emp, p_model):\n",
    "    \"\"\" Calculates the loglikelihood for current model parameters\"\"\"\n",
    "    \n",
    "    return np.dot(p_emp[p_model>0], np.log(p_model[p_model>0]))\n",
    "\n",
    "def fitMaxEntropyModel(model_terms, p_emp, term_tags=[], verbose=1):\n",
    "    \"\"\" Fit a maximum entropy model \"\"\"\n",
    "\n",
    "    # Exptectation values for each model term (constraints)\n",
    "    E_emp = np.dot(p_emp, model_terms)\n",
    "    \n",
    "    # Initialize lambdas to zeros (initial guess)\n",
    "    n_lambdas = model_terms.shape[1]\n",
    "    lambdas = np.zeros(n_lambdas)\n",
    "    \n",
    "    # Get initial predicted probabilitites\n",
    "    p_model = getModelDistribution(lambdas, model_terms)\n",
    "    \n",
    "    # Get the initial loglikelihood\n",
    "    log_lik = []\n",
    "    log_lik.append(logLikelihood(p_emp, p_model))\n",
    "    \n",
    "    # Gradient ascent with successive upated along the newton direction\n",
    "    n_steps = 0\n",
    "    converged = False\n",
    "    while not converged:\n",
    "        \n",
    "        # Get the model's expectation values\n",
    "        E_model = np.dot(p_model, model_terms)\n",
    "        \n",
    "        # Calculate the gradient and the Hessian\n",
    "        gradient = E_emp - E_model\n",
    "        h_term1 = np.dot(model_terms.T, (p_model[:, np.newaxis]*model_terms))\n",
    "        h_term2 = np.outer(E_model, E_model)\n",
    "        hessian = h_term1 - h_term2\n",
    "        \n",
    "        # Line search along the Newton direction\n",
    "        newton_direction = np.dot(np.linalg.inv(hessian), gradient)\n",
    "        step_lengths = np.arange(0.1, 1.01, 0.1)\n",
    "        log_lik_tmp = np.zeros(step_lengths.size)\n",
    "        for i in range(step_lengths.size):\n",
    "            lambdas_tmp = lambdas + step_lengths[i]*newton_direction\n",
    "            p_model_tmp = getModelDistribution(lambdas_tmp, model_terms)\n",
    "            log_lik_tmp[i] = logLikelihood(p_emp, p_model_tmp)\n",
    "        \n",
    "        # Update lambdas using the best step length\n",
    "        lambdas += step_lengths[log_lik_tmp.argmax()]*newton_direction\n",
    "        \n",
    "        # Model probabilitites with updated lambdas\n",
    "        p_model = getModelDistribution(lambdas, model_terms)\n",
    "        \n",
    "        # Update the loglikelihood and check for convergence\n",
    "        log_lik.append(logLikelihood(p_emp, p_model))\n",
    "        if np.abs(log_lik[-1] - log_lik[-2]) < 1e-10:\n",
    "            converged = True\n",
    "        n_steps += 1\n",
    "    \n",
    "    if verbose:\n",
    "        print('{:10}'.format('') + ''.join(['{:>8}'.format(tag) for tag in term_tags]))\n",
    "        print('{:10}'.format('Empirical') + ''.join(['{:8.3f}'.format(val) for val in E_emp]))\n",
    "        print('{:10}'.format('Model') + ''.join(['{:8.3f}'.format(val) for val in E_model]))\n",
    "    \n",
    "    return p_model, lambdas, log_lik\n",
    "\n",
    "def naiveEntropy(p):\n",
    "    \"\"\" Naive entropy calculation \"\"\"\n",
    "    \n",
    "    return -np.sum(p[p>0]*np.log2(p[p>0]))\n",
    "\n",
    "def plotModelFit(p_emp, p_model, x, log_lik):\n",
    "    \"\"\" Plot Newton iterations and the fitted model\"\"\"\n",
    "\n",
    "    # Open figure\n",
    "    plt.figure(figsize=(15, 3))\n",
    "    # Subplot 1\n",
    "    ax = plt.subplot(1, 2, 1)\n",
    "    ax.axhline(logLikelihood(p_emp, p_emp), c='gray', ls=':')  # Max value if p_emp == p_model\n",
    "    ax.plot(np.arange(len(log_lik)), log_lik, 'ko')  # Progress per iteration\n",
    "    ax.set_xlabel('Newton iteration step')\n",
    "    ax.set_ylabel('Loglieklihood')\n",
    "    # Subplot 2\n",
    "    ax = plt.subplot(1, 2, 2)\n",
    "    ax.bar(x, p_emp, alpha=0.4, label='$p_\\mathrm{emp.}(x)$')\n",
    "    ax.bar(x, p_model, color='r', alpha=0.4, label='$p_\\mathrm{model}(x)$')\n",
    "    ax.plot(x, p, 'ko', label='$p_\\mathrm{true}(x)$')\n",
    "    ax.legend(loc=0, frameon=False)\n",
    "    ax.set_xlabel('$x$')\n",
    "    ax.set_ylabel('$p(x)$');"
   ]
  },
  {
   "cell_type": "markdown",
   "metadata": {},
   "source": [
    "#### Exponential distribution"
   ]
  },
  {
   "cell_type": "code",
   "execution_count": 69,
   "metadata": {},
   "outputs": [
    {
     "name": "stdout",
     "output_type": "stream",
     "text": [
      "                x1    x1x1\n",
      "Empirical    2.245  10.635\n",
      "Model        2.245  10.635\n"
     ]
    },
    {
     "data": {
      "image/png": "[encoded data removed]",
      "text/plain": [
       "<Figure size 1080x216 with 2 Axes>"
      ]
     },
     "metadata": {
      "needs_background": "light"
     },
     "output_type": "display_data"
    }
   ],
   "source": [
    "n_outcomes = 21\n",
    "n_observations = 200\n",
    "mu = 3.\n",
    "\n",
    "# The true distribution is an exponential distribution\n",
    "x = np.arange(n_outcomes)\n",
    "p = 1/mu * np.exp(-x/mu)\n",
    "p /= p.sum()\n",
    "\n",
    "# Get a sample of n_observations from the true distribution\n",
    "sample_idx = sampleDistribution(p, n_observations)\n",
    "\n",
    "# Get the response patterns and the model terms\n",
    "patterns = generateResponsePatterns(x, sample_idx.shape[1])\n",
    "model_terms, term_tags = generateModelTerms(patterns, order=2)\n",
    "\n",
    "# Empirical pattern probabilitites\n",
    "p_emp = getEmpiricalDistribution(x[sample_idx], patterns)\n",
    "\n",
    "# Fit the maximum entropy model\n",
    "p_model, lambdas, log_lik = fitMaxEntropyModel(model_terms, p_emp, term_tags)\n",
    "\n",
    "# Plot results\n",
    "plotModelFit(p_emp, p_model, x, log_lik)"
   ]
  },
  {
   "cell_type": "markdown",
   "metadata": {},
   "source": [
    "#### Normal distribution"
   ]
  },
  {
   "cell_type": "code",
   "execution_count": 70,
   "metadata": {},
   "outputs": [
    {
     "name": "stdout",
     "output_type": "stream",
     "text": [
      "                x1    x1x1\n",
      "Empirical   -6.875  50.595\n",
      "Model       -6.875  50.595\n"
     ]
    },
    {
     "data": {
      "image/png": "[encoded data removed]",
      "text/plain": [
       "<Figure size 1080x216 with 2 Axes>"
      ]
     },
     "metadata": {
      "needs_background": "light"
     },
     "output_type": "display_data"
    }
   ],
   "source": [
    "n_outcomes = 21\n",
    "n_observations = 200\n",
    "mu = -7.\n",
    "sigma = 2.\n",
    "\n",
    "# The true distribution is an normal distribution\n",
    "#x = np.arange(n_outcomes)\n",
    "x = np.arange(-10, 11, 1)\n",
    "p = np.exp(-(x-mu)**2/(2*sigma**2))\n",
    "p /= p.sum()\n",
    "\n",
    "# Get a sample of n_observations from the true distribution\n",
    "sample_idx = sampleDistribution(p, n_observations)\n",
    "\n",
    "# Get the response patterns and the model terms\n",
    "patterns = generateResponsePatterns(x, sample_idx.shape[1])\n",
    "model_terms, term_tags = generateModelTerms(patterns, order=2)\n",
    "\n",
    "# Empirical pattern probabilitites\n",
    "p_emp = getEmpiricalDistribution(x[sample_idx], patterns)\n",
    "\n",
    "# Fit the maximum entropy model\n",
    "p_model, lambdas, log_lik = fitMaxEntropyModel(model_terms, p_emp, term_tags)\n",
    "\n",
    "# Plot results\n",
    "plotModelFit(p_emp, p_model, x, log_lik)"
   ]
  },
  {
   "cell_type": "markdown",
   "metadata": {},
   "source": [
    "#### Two-dimensional normal distribution"
   ]
  },
  {
   "cell_type": "code",
   "execution_count": 71,
   "metadata": {},
   "outputs": [
    {
     "name": "stdout",
     "output_type": "stream",
     "text": [
      "                x1      x2    x1x1    x1x2    x2x2\n",
      "Empirical   10.067  10.065 118.368 113.670 118.507\n",
      "Model       10.066  10.065 118.368 113.670 118.507\n"
     ]
    },
    {
     "data": {
      "image/png": "[encoded data removed]",
      "text/plain": [
       "<Figure size 1080x216 with 3 Axes>"
      ]
     },
     "metadata": {
      "needs_background": "light"
     },
     "output_type": "display_data"
    }
   ],
   "source": [
    "n_outcomes = 21\n",
    "n_observations = 10000\n",
    "mu = (n_outcomes-1) / 2.*np.ones([2, 1])\n",
    "var = 20.\n",
    "cov = 15.\n",
    "\n",
    "# Get the true probability distribution\n",
    "cov_mat = np.array([[var, cov], [cov, var]])\n",
    "[x1, x2,] = np.meshgrid(range(n_outcomes), range(n_outcomes))\n",
    "p = np.zeros([n_outcomes, n_outcomes])\n",
    "for i in range(n_outcomes**2):\n",
    "    x_tmp = np.array([x1.ravel()[i]-mu[0], x2.ravel()[i]-mu[1]])\n",
    "    p.ravel()[i] = np.exp(-1/2 * np.dot(x_tmp.T, np.dot(np.linalg.inv(cov_mat), x_tmp)))\n",
    "p /= p.sum()\n",
    "\n",
    "# Get a sample of n_observations from the true distribution\n",
    "sample_idx = sampleDistribution(p, n_observations)\n",
    "\n",
    "# Get the response patterns and the model terms\n",
    "patterns = generateResponsePatterns(np.arange(n_outcomes), sample_idx.shape[1])\n",
    "model_terms, term_tags = generateModelTerms(patterns, order=2)\n",
    "\n",
    "# Empirical pattern probabilitites\n",
    "p_emp = getEmpiricalDistribution(sample_idx, patterns)\n",
    "\n",
    "# Fit the maximum entropy model\n",
    "p_model, lambdas, log_lik = fitMaxEntropyModel(model_terms, p_emp, term_tags)\n",
    "\n",
    "# Plot results\n",
    "plt.figure(figsize=(15, 3))\n",
    "# Subplot 1\n",
    "ax = plt.subplot(1, 3, 1)\n",
    "ax.imshow(p)\n",
    "ax.invert_yaxis()\n",
    "ax.set_xlabel('$x_1$')\n",
    "ax.set_ylabel('$x_2$')\n",
    "ax.set_title('$p_\\mathrm{true}(x)$')\n",
    "# Subplot 2\n",
    "ax = plt.subplot(1, 3, 2)\n",
    "ax.imshow(p_emp.reshape(n_outcomes, n_outcomes))\n",
    "ax.invert_yaxis()\n",
    "ax.set_xlabel('$x_1$')\n",
    "ax.set_ylabel('$x_2$')\n",
    "ax.set_title('$p_\\mathrm{emp}(x)$')\n",
    "# Subplot 3\n",
    "ax = plt.subplot(1, 3, 3)\n",
    "ax.imshow(p_model.reshape(n_outcomes, n_outcomes))\n",
    "ax.invert_yaxis()\n",
    "ax.set_xlabel('$x_1$')\n",
    "ax.set_ylabel('$x_2$')\n",
    "ax.set_title('$p_\\mathrm{model}(x)$');"
   ]
  },
  {
   "cell_type": "markdown",
   "metadata": {},
   "source": [
    "#### Entropy for two-dimensional normal distribution"
   ]
  },
  {
   "cell_type": "code",
   "execution_count": 72,
   "metadata": {},
   "outputs": [
    {
     "data": {
      "image/png": "[encoded data removed]",
      "text/plain": [
       "<Figure size 540x216 with 1 Axes>"
      ]
     },
     "metadata": {
      "needs_background": "light"
     },
     "output_type": "display_data"
    }
   ],
   "source": [
    "relevance_lim = 1e-2\n",
    "n_dist_params = np.sum(p>relevance_lim)\n",
    "sample_sizes = np.arange(1, 11)*n_dist_params\n",
    "n_repetitions = 100\n",
    "\n",
    "# Entropies\n",
    "H_true = naiveEntropy(p)\n",
    "H_emp = np.zeros([n_repetitions, sample_sizes.size])\n",
    "H_model = np.zeros([n_repetitions, sample_sizes.size])\n",
    "\n",
    "# Get the response patterns and the model terms\n",
    "patterns = generateResponsePatterns(np.arange(n_outcomes), sample.shape[1])\n",
    "model_terms, term_tags = generateModelTerms(patterns, order=2)\n",
    "\n",
    "for size_idx in range(sample_sizes.size):\n",
    "    \n",
    "    n_observations = sample_sizes[size_idx]\n",
    "    for rep_idx in range(n_repetitions):\n",
    "        \n",
    "        # Get a sample of n_observations from the true distribution\n",
    "        sample_idx = sampleDistribution(p, n_observations)\n",
    "\n",
    "        # Empirical pattern probabilitites\n",
    "        p_emp = getEmpiricalDistribution(sample_idx, patterns)\n",
    "        H_emp[rep_idx, size_idx] = naiveEntropy(p_emp)\n",
    "\n",
    "        # Fit the maximum entropy model\n",
    "        p_model, lambdas, log_lik = fitMaxEntropyModel(model_terms, p_emp, term_tags, verbose=0)\n",
    "        H_model[rep_idx, size_idx] = naiveEntropy(p_model)\n",
    "    \n",
    "# Plotting\n",
    "plt.figure(figsize=(7.5, 3))\n",
    "plt.errorbar(sample_sizes, H_emp.mean(axis=0), yerr=H_emp.std(axis=0), fmt='ro', label='$H_\\mathrm{emp}\\pm\\sigma$')\n",
    "plt.errorbar(sample_sizes, H_model.mean(axis=0), yerr=H_model.std(axis=0), fmt='bo', label='$H_\\mathrm{model}\\pm\\sigma$')\n",
    "plt.axhline(H_true, ls=':', c='gray', label='$H_\\mathrm{true}$')\n",
    "plt.legend(loc=4, frameon=False)\n",
    "plt.xlabel('Number of observations')\n",
    "plt.ylabel('Entropy ($H$)');\n"
   ]
  }
 ],
 "metadata": {
  "kernelspec": {
   "display_name": "Python 3",
   "language": "python",
   "name": "python3"
  },
  "language_info": {
   "codemirror_mode": {
    "name": "ipython",
    "version": 3
   },
   "file_extension": ".py",
   "mimetype": "text/x-python",
   "name": "python",
   "nbconvert_exporter": "python",
   "pygments_lexer": "ipython3",
   "version": "3.6.8"
  }
 },
 "nbformat": 4,
 "nbformat_minor": 1
}
